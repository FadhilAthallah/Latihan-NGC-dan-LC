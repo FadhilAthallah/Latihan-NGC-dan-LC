{
 "cells": [
  {
   "cell_type": "code",
   "execution_count": 43,
   "metadata": {},
   "outputs": [
    {
     "name": "stdout",
     "output_type": "stream",
     "text": [
      "4\n"
     ]
    },
    {
     "data": {
      "text/plain": [
       "4"
      ]
     },
     "execution_count": 43,
     "metadata": {},
     "output_type": "execute_result"
    }
   ],
   "source": [
    "#1\n",
    "def number_of_word(sentence):\n",
    "    kata = sentence.split()\n",
    "    print(len(kata))\n",
    "    return len(kata)\n",
    "\n",
    "\n",
    "\n",
    "\n",
    "\n",
    "number_of_word(str(input()))\n",
    "\n"
   ]
  },
  {
   "cell_type": "code",
   "execution_count": 39,
   "metadata": {},
   "outputs": [
    {
     "name": "stdout",
     "output_type": "stream",
     "text": [
      "[5, 10, 15, 20]\n",
      "[10, 20, 30, 40, 50]\n"
     ]
    }
   ],
   "source": [
    "#2\n",
    "def find_multiples(start_range, end_range, multiple):\n",
    "\n",
    "    multiples = []\n",
    "\n",
    "    for i in range(start_range, end_range+1):\n",
    "        if i % multiple == 0:\n",
    "            multiples.append(i)\n",
    "\n",
    "    return multiples\n",
    "    \n",
    "print(find_multiples(1, 20, 5))\n",
    "print(find_multiples(1, 50, 10))"
   ]
  },
  {
   "cell_type": "code",
   "execution_count": 42,
   "metadata": {},
   "outputs": [
    {
     "data": {
      "text/plain": [
       "{'Albert': 'A', 'Dwi': 'B', 'Syahdan': 'D', 'Veronica': 'B'}"
      ]
     },
     "execution_count": 42,
     "metadata": {},
     "output_type": "execute_result"
    }
   ],
   "source": [
    "#3\n",
    "def Grade_Converter(convert_to, **Students):\n",
    "  # akses student satu per satu\n",
    "  for nama, nilai in Students.items():\n",
    "\n",
    "    # Jika diminta ke format GPA\n",
    "    if convert_to == 'letter_grade':\n",
    "      if nilai >= 85 :\n",
    "        nilai = 'A'\n",
    "      elif nilai >= 70 :\n",
    "        nilai = 'B'\n",
    "      elif nilai >= 60 :\n",
    "        nilai = 'C'\n",
    "      elif nilai >= 50 :\n",
    "        nilai = 'D'\n",
    "      elif nilai >= 40 :\n",
    "        nilai = 'F'\n",
    "      else:\n",
    "        nilai = 'E'\n",
    "\n",
    "    # Jika yang diminta letter format    \n",
    "    else :\n",
    "      if nilai >= 85 :\n",
    "        nilai = 4.0\n",
    "      elif nilai >= 70 :\n",
    "        nilai = 3.0\n",
    "      elif nilai >= 60 :\n",
    "        nilai = 2.5\n",
    "      elif nilai >= 50 :\n",
    "        nilai = 2.0\n",
    "      elif nilai >= 40 :\n",
    "        nilai = 1.5\n",
    "      else:\n",
    "        nilai = 1\n",
    "      \n",
    "    # Masukkan nilai yang sudah diubah\n",
    "    Students[nama] = nilai\n",
    "\n",
    "  # return hasilnya\n",
    "  return Students\n",
    "Grade_Converter(convert_to='letter_grade', Albert=90, Dwi=82, Syahdan=58, Veronica=84)"
   ]
  },
  {
   "cell_type": "code",
   "execution_count": 41,
   "metadata": {},
   "outputs": [
    {
     "name": "stdout",
     "output_type": "stream",
     "text": [
      "8\n"
     ]
    }
   ],
   "source": [
    "def fibb(n):\n",
    "    if n < 0:\n",
    "        print('error')\n",
    "    elif n == 1 or n == 2:\n",
    "        return 1\n",
    "    elif n == 0:\n",
    "        return 0\n",
    "    else:\n",
    "        return fibb(n-1) + fibb(n-2)\n",
    "    \n",
    "print(fibb(6))"
   ]
  }
 ],
 "metadata": {
  "kernelspec": {
   "display_name": "base",
   "language": "python",
   "name": "python3"
  },
  "language_info": {
   "codemirror_mode": {
    "name": "ipython",
    "version": 3
   },
   "file_extension": ".py",
   "mimetype": "text/x-python",
   "name": "python",
   "nbconvert_exporter": "python",
   "pygments_lexer": "ipython3",
   "version": "3.9.18"
  }
 },
 "nbformat": 4,
 "nbformat_minor": 2
}
