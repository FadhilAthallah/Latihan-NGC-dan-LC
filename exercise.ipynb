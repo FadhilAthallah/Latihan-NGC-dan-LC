{
 "cells": [
  {
   "cell_type": "code",
   "execution_count": 20,
   "metadata": {},
   "outputs": [
    {
     "name": "stdout",
     "output_type": "stream",
     "text": [
      "******\n",
      "*****\n",
      "****\n",
      "***\n",
      "**\n",
      "*\n"
     ]
    }
   ],
   "source": [
    "\n",
    "x = input(\"masukkan angka: \")\n",
    "for i in range (int(x),0,-1):\n",
    "    print(str('*') * i)\n",
    "\n",
    "\n",
    "\n",
    "    \n",
    "\n",
    "\n"
   ]
  },
  {
   "cell_type": "code",
   "execution_count": 22,
   "metadata": {},
   "outputs": [
    {
     "name": "stdout",
     "output_type": "stream",
     "text": [
      "[6, 8, 10]\n"
     ]
    }
   ],
   "source": [
    "#2 \n",
    "arr = []\n",
    "\n",
    "for i in [1, 6, 8, 10]:\n",
    "    if i % 2 == 0:\n",
    "        arr.append(i)\n",
    "print(arr)"
   ]
  },
  {
   "cell_type": "code",
   "execution_count": 19,
   "metadata": {},
   "outputs": [
    {
     "name": "stdout",
     "output_type": "stream",
     "text": [
      "27\n"
     ]
    }
   ],
   "source": [
    "#3\n",
    "listAngka = [10,5,7,5]\n",
    "total = 0\n",
    "for angka in listAngka:\n",
    "    total += angka\n",
    "print(total)    "
   ]
  },
  {
   "cell_type": "code",
   "execution_count": 21,
   "metadata": {},
   "outputs": [
    {
     "name": "stdout",
     "output_type": "stream",
     "text": [
      "6\n"
     ]
    }
   ],
   "source": [
    "#4\n",
    "kata = 'saya lapar banget'\n",
    "validate = 'aiueo'\n",
    "\n",
    "total = 0\n",
    "for char in kata:\n",
    "    if char in validate:\n",
    "        total += 1\n",
    "print(total)        "
   ]
  },
  {
   "cell_type": "code",
   "execution_count": 33,
   "metadata": {},
   "outputs": [
    {
     "name": "stdout",
     "output_type": "stream",
     "text": [
      "i\n",
      "ii\n",
      "iii\n",
      "iiii\n",
      "iiiii\n",
      "iiiiii\n",
      "iiiiiii\n",
      "iiiiiiii\n"
     ]
    }
   ],
   "source": [
    "#5\n",
    "x=input('masukkan angka: ')\n",
    "for i in range(1,int(x)):\n",
    "    if i < 9:\n",
    "        print(str(0:)*i)"
   ]
  },
  {
   "cell_type": "code",
   "execution_count": 16,
   "metadata": {},
   "outputs": [
    {
     "data": {
      "text/plain": [
       "55000"
      ]
     },
     "execution_count": 16,
     "metadata": {},
     "output_type": "execute_result"
    }
   ],
   "source": [
    "#Case object oriented\n",
    "#1\n",
    "class bankaccount:\n",
    "    def __init__(self, account_number, balance, date_open, name):\n",
    "        self.account_number= account_number\n",
    "        self.balance = balance\n",
    "        self.date_open=date_open\n",
    "        self.name=name\n",
    "    def deposit(self,amount):\n",
    "        self.balance += amount\n",
    "\n",
    "    def withdraw(self,amount):\n",
    "        if amount < self.balance:\n",
    "            self.balance -= amount\n",
    "        else:\n",
    "            print('saldo tidak cukup')\n",
    "    \n",
    "    def get_balance(self):\n",
    "        return self.balance\n",
    "\n",
    "account_number = bankaccount(9999, 50000, '2 Januari', 'Fadhil')\n",
    "\n",
    "account_number.deposit(5000)\n",
    "account_number.balance\n",
    "\n"
   ]
  },
  {
   "cell_type": "code",
   "execution_count": 27,
   "metadata": {},
   "outputs": [
    {
     "ename": "SyntaxError",
     "evalue": "invalid syntax (1796032494.py, line 13)",
     "output_type": "error",
     "traceback": [
      "\u001b[1;36m  Cell \u001b[1;32mIn[27], line 13\u001b[1;36m\u001b[0m\n\u001b[1;33m    def  def emp_assign_department(self, dept_change):\u001b[0m\n\u001b[1;37m         ^\u001b[0m\n\u001b[1;31mSyntaxError\u001b[0m\u001b[1;31m:\u001b[0m invalid syntax\n"
     ]
    }
   ],
   "source": [
    "#2 \n",
    "class akunbank:\n",
    "    def __init__ (self, emp_id, emp_name, emp_salary, emp_department):\n",
    "        self.emp_id = emp_id\n",
    "        self.emp_salary = emp_salary\n",
    "        self.emp_department = emp_department\n",
    "    def  calculate_emp_salary(self, hours_worked):\n",
    "        overtime = hours_worked - 50\n",
    "        overtime_amount = (overtime * (self.emp_salary / 50)) \n",
    "        total_salary = self.emp_salary + overtime_amount\n",
    "\n",
    "        return total_salary\n",
    "    def emp_assign_department(self, dept_change):\n",
    "        self.emp_dept = dept_change\n",
    "    \n",
    "    def print_emp_dets(self):\n",
    "        print(str(\"Employee ID\"), self.__emp_id)\n",
    "        print(f\"Employee Name :\", self.__emp_name)\n",
    "        print(f\"Employee Salary :\", self.__emp_salary)\n",
    "        print(f\"Employee Dept :\", self.__emp_dept)\n",
    "    \n",
    "akun=akunbank(\"ADAMS\", \"E7876\", 50000, \"ACCOUNTING\") \n",
    "akun.calculate_emp_salary()\n",
    "akun.print_emp_dets\n",
    "        "
   ]
  },
  {
   "cell_type": "code",
   "execution_count": 60,
   "metadata": {},
   "outputs": [
    {
     "data": {
      "text/plain": [
       "62.800000000000004"
      ]
     },
     "execution_count": 60,
     "metadata": {},
     "output_type": "execute_result"
    }
   ],
   "source": [
    "#1 luas dan kel lingkaran\n",
    "class lingkar:\n",
    "    def __init__ (self,radius):\n",
    "        self.radius=radius\n",
    "    def luaslingkaran(self):\n",
    "        luaslingkaran=3.14*self.radius*self.radius\n",
    "        return luaslingkaran\n",
    "    def kelilinglingkaran(self):\n",
    "        kelilinglingkaran=2*3.14*self.radius\n",
    "        return kelilinglingkaran\n",
    "lingkaran=lingkar(10)\n",
    "lingkaran.kelilinglingkaran()\n"
   ]
  },
  {
   "cell_type": "code",
   "execution_count": 62,
   "metadata": {},
   "outputs": [
    {
     "data": {
      "text/plain": [
       "50.0"
      ]
     },
     "execution_count": 62,
     "metadata": {},
     "output_type": "execute_result"
    }
   ],
   "source": [
    "#2 \n",
    "class segitiga:\n",
    "    def __init__ (self,alas,tinggi):\n",
    "        self.alas=alas\n",
    "        self.tinggi=tinggi\n",
    "    def luas_segitiga(self):\n",
    "        luas_segitiga=self.alas*self.tinggi*0.5\n",
    "        return luas_segitiga\n",
    "Hasil=segitiga(10,10)\n",
    "Hasil.luas_segitiga()"
   ]
  },
  {
   "cell_type": "code",
   "execution_count": 64,
   "metadata": {},
   "outputs": [
    {
     "name": "stdout",
     "output_type": "stream",
     "text": [
      "judul :  komik\n",
      "Pengarang :  doraemon\n",
      "tahun :  1995\n"
     ]
    }
   ],
   "source": [
    "#3\n",
    "'''\n",
    "Buatlah sebuah kelas Python yang disebut Buku. Kelas ini harus memiliki atribut judul, pengarang, dan tahun_terbit. Selain itu, buatlah metode informasi() yang mencetak informasi lengkap tentang buku tersebut.\n",
    "'''\n",
    "class python:\n",
    "    def __init__ (self,judul,pengarang,tahun_terbit):\n",
    "        self.judul=judul\n",
    "        self.pengarang=pengarang\n",
    "        self.tahun_terbit=tahun_terbit\n",
    "    def list_data(self):\n",
    "        print(\"judul : \",self.judul)\n",
    "        print(\"Pengarang : \", self.pengarang)\n",
    "        print('tahun : ', self.tahun_terbit)\n",
    "Hasil=python(\"komik\",\"doraemon\",1995)\n",
    "Hasil.list_data()\n"
   ]
  },
  {
   "cell_type": "markdown",
   "metadata": {},
   "source": [
    "3.Buatlah sebuah kelas Python yang disebut Kendaraan. Kelas ini harus memiliki atribut kecepatan (dalam km/jam) dan bahan_bakar (dalam liter). Kelas ini juga harus memiliki metode hitung_jarak_waktu(waktu) untuk menghitung jarak yang ditempuh berdasarkan waktu yang diberikan. Selain itu, buatlah metode konsumsi_bahan_bakar(jarak) untuk menghitung konsumsi bahan bakar berdasarkan jarak yang ditempuh. Terakhir, buatlah sebuah objek dari kelas Kendaraan dengan kecepatan 80 km/jam dan bahan bakar 20 liter. Hitunglah jarak yang ditempuh dalam waktu 2 jam, dan cetak jarak yang ditempuh beserta konsumsi bahan bakarnya."
   ]
  },
  {
   "cell_type": "code",
   "execution_count": 1,
   "metadata": {},
   "outputs": [
    {
     "ename": "NameError",
     "evalue": "name 'hasil' is not defined",
     "output_type": "error",
     "traceback": [
      "\u001b[1;31m---------------------------------------------------------------------------\u001b[0m",
      "\u001b[1;31mNameError\u001b[0m                                 Traceback (most recent call last)",
      "Cell \u001b[1;32mIn[1], line 17\u001b[0m\n\u001b[0;32m     14\u001b[0m         \u001b[38;5;28;01mreturn\u001b[39;00m fuelUsage\n\u001b[0;32m     15\u001b[0m hasil:Car(\u001b[38;5;241m50\u001b[39m,\u001b[38;5;241m10\u001b[39m)\n\u001b[1;32m---> 17\u001b[0m \u001b[43mhasil\u001b[49m\u001b[38;5;241m.\u001b[39mfuelUsage(\u001b[38;5;241m10\u001b[39m)\n",
      "\u001b[1;31mNameError\u001b[0m: name 'hasil' is not defined"
     ]
    }
   ],
   "source": [
    "\n",
    "#3\n",
    "class Car:\n",
    "    def __init__(self, speed, fuel):\n",
    "        self.speed = speed\n",
    "        self.fuel = fuel\n",
    "        \n",
    "    def distanceSpeed(self, time):\n",
    "        distanceSpeed = self.speed * time\n",
    "        return distanceSpeed\n",
    "    \n",
    "    def fuelUsage(self, distance):\n",
    "        usage = self.fuel/distance\n",
    "        fuelUsage = usage\n",
    "        return fuelUsage\n",
    "hasil:Car(50,10)\n",
    "\n",
    "hasil.fuelUsage(10)\n"
   ]
  },
  {
   "cell_type": "markdown",
   "metadata": {},
   "source": [
    "5.Buatlah sebuah kelas Python yang disebut Student untuk merepresentasikan seorang siswa. Kelas tersebut harus memiliki fitur-fitur berikut:\n",
    "\n",
    "Atribut: name (string), age (integer), grades (list of integers).\n",
    "Metode __init__ harus menginisialisasi atribut name dan age. Atribut grades harus berupa daftar kosong.\n",
    "Implementasikan metode add_grade(grade) yang menambahkan nilai ke dalam daftar nilai.\n",
    "Implementasikan metode get_average_grade() yang menghitung dan mengembalikan nilai rata-rata."
   ]
  },
  {
   "cell_type": "code",
   "execution_count": null,
   "metadata": {},
   "outputs": [],
   "source": [
    "#5\n",
    "class Student:\n",
    "    def __init__(self, name, age):\n",
    "        self. name = str(name)\n",
    "        self.age = int(age)\n",
    "        self.grades = []\n",
    "    \n",
    "    def add_grade(self, grade):\n",
    "        self.grades.append(grade) \n",
    "        \n",
    "    def view_grades(self):\n",
    "        return self.grades \n",
    "        \n",
    "    def get_average_grade(self):\n",
    "        return sum(self.grades)/len(self.grades)  "
   ]
  }
 ],
 "metadata": {
  "kernelspec": {
   "display_name": "base",
   "language": "python",
   "name": "python3"
  },
  "language_info": {
   "codemirror_mode": {
    "name": "ipython",
    "version": 3
   },
   "file_extension": ".py",
   "mimetype": "text/x-python",
   "name": "python",
   "nbconvert_exporter": "python",
   "pygments_lexer": "ipython3",
   "version": "3.9.18"
  }
 },
 "nbformat": 4,
 "nbformat_minor": 2
}
